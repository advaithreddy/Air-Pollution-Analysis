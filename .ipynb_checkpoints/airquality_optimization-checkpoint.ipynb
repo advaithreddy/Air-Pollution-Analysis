{
 "cells": [
  {
   "cell_type": "markdown",
   "id": "01e65c8d",
   "metadata": {},
   "source": [
    "# AIR QUALITY OPTIMIZATION                                                         \n",
    "                                                                                                               Advaith\n",
    "\n",
    "## Dataset Description\n",
    "\n",
    "This dataset contains 9358 instances of hourly averaged responses from an array of 5 metal oxide chemical sensors embedded in an Air Quality Chemical Multisensor Device. The device was located on the field in a significantly polluted area, at road level,within an Italian city. Data were recorded from March 2004 to February 2005 (one year)representing the longest freely available recordings of on field deployed air quality chemical sensor devices responses. More about this dataset: https://archive.ics.uci.edu/ml/datasets/Air+Quality\n",
    "\n",
    "#### Dataset Features\n",
    "1. Date (DD/MM/YYYY)\n",
    "2. Time (HH.MM.SS)\n",
    "3. CO(GT) - True hourly averaged concentration CO in mg/m^3 (reference analyzer)\n",
    "4. PT08.S1 (tin oxide) hourly averaged sensor response (nominally CO targeted)  \n",
    "5. NMHC(GT) - True hourly averaged overall Non Metanic HydroCarbons concentration in microg/m^3 (reference analyzer)\n",
    "6. C6H6(GT) - True hourly averaged Benzene concentration in microg/m^3 (reference analyzer)\n",
    "7. PT08.S2 (titania) hourly averaged sensor response (nominally NMHC targeted)\n",
    "8. NOx(GT) - True hourly averaged NOx concentration in ppb (reference analyzer)\n",
    "9. PT08.S3 (tungsten oxide) hourly averaged sensor response (nominally NOx targeted)\n",
    "10. NO2(GT) - True hourly averaged NO2 concentration in microg/m^3 (reference analyzer)\n",
    "11. PT08.S4 (tungsten oxide) hourly averaged sensor response (nominally NO2 targeted)\n",
    "12. PT08.S5 (indium oxide) hourly averaged sensor response (nominally O3 targeted)\n",
    "13. T - Temperature in Â°C\n",
    "14. RH - Relative Humidity (%)\n",
    "15. AH - Absolute Humidity"
   ]
  },
  {
   "cell_type": "code",
   "execution_count": 4,
   "id": "9e78fc25",
   "metadata": {},
   "outputs": [],
   "source": [
    "#import Libraries\n",
    "import numpy as np\n",
    "import pandas as pd\n",
    "import seaborn as sns\n",
    "from sklearn import tree\n",
    "from sklearn import metrics\n",
    "import matplotlib.pyplot as plt\n",
    "from sklearn.cluster import KMeans\n",
    "from sklearn import model_selection\n",
    "from sklearn.metrics import accuracy_score\n",
    "from sklearn import datasets, linear_model\n",
    "from sklearn.model_selection import LeaveOneOut\n",
    "from sklearn.model_selection import GridSearchCV\n",
    "from sklearn.model_selection import cross_val_score\n",
    "from sklearn.model_selection import train_test_split\n",
    "from sklearn.metrics import mean_squared_error, r2_score"
   ]
  },
  {
   "cell_type": "code",
   "execution_count": 6,
   "id": "eb922777",
   "metadata": {},
   "outputs": [],
   "source": [
    "# loading in data\n",
    "data_url = 'https://raw.githubusercontent.com/advaithreddy/Air-Pollution-Analysis/main/airquality.csv?token=GHSAT0AAAAAACDFJUMRH5TI5BK346AKO5ZQZEFOJLQ'\n",
    "air_df = pd.read_csv(data_url, sep = ';', decimal = ',')"
   ]
  },
  {
   "cell_type": "code",
   "execution_count": 7,
   "id": "94b3da41",
   "metadata": {},
   "outputs": [
    {
     "data": {
      "text/html": [
       "<div>\n",
       "<style scoped>\n",
       "    .dataframe tbody tr th:only-of-type {\n",
       "        vertical-align: middle;\n",
       "    }\n",
       "\n",
       "    .dataframe tbody tr th {\n",
       "        vertical-align: top;\n",
       "    }\n",
       "\n",
       "    .dataframe thead th {\n",
       "        text-align: right;\n",
       "    }\n",
       "</style>\n",
       "<table border=\"1\" class=\"dataframe\">\n",
       "  <thead>\n",
       "    <tr style=\"text-align: right;\">\n",
       "      <th></th>\n",
       "      <th>Date</th>\n",
       "      <th>Time</th>\n",
       "      <th>CO(GT)</th>\n",
       "      <th>PT08.S1(CO)</th>\n",
       "      <th>NMHC(GT)</th>\n",
       "      <th>C6H6(GT)</th>\n",
       "      <th>PT08.S2(NMHC)</th>\n",
       "      <th>NOx(GT)</th>\n",
       "      <th>PT08.S3(NOx)</th>\n",
       "      <th>NO2(GT)</th>\n",
       "      <th>PT08.S4(NO2)</th>\n",
       "      <th>PT08.S5(O3)</th>\n",
       "      <th>T</th>\n",
       "      <th>RH</th>\n",
       "      <th>AH</th>\n",
       "      <th>Unnamed: 15</th>\n",
       "      <th>Unnamed: 16</th>\n",
       "    </tr>\n",
       "  </thead>\n",
       "  <tbody>\n",
       "    <tr>\n",
       "      <th>0</th>\n",
       "      <td>10/03/2004</td>\n",
       "      <td>18.00.00</td>\n",
       "      <td>2.6</td>\n",
       "      <td>1360.0</td>\n",
       "      <td>150.0</td>\n",
       "      <td>11.9</td>\n",
       "      <td>1046.0</td>\n",
       "      <td>166.0</td>\n",
       "      <td>1056.0</td>\n",
       "      <td>113.0</td>\n",
       "      <td>1692.0</td>\n",
       "      <td>1268.0</td>\n",
       "      <td>13.6</td>\n",
       "      <td>48.9</td>\n",
       "      <td>0.7578</td>\n",
       "      <td>NaN</td>\n",
       "      <td>NaN</td>\n",
       "    </tr>\n",
       "    <tr>\n",
       "      <th>1</th>\n",
       "      <td>10/03/2004</td>\n",
       "      <td>19.00.00</td>\n",
       "      <td>2.0</td>\n",
       "      <td>1292.0</td>\n",
       "      <td>112.0</td>\n",
       "      <td>9.4</td>\n",
       "      <td>955.0</td>\n",
       "      <td>103.0</td>\n",
       "      <td>1174.0</td>\n",
       "      <td>92.0</td>\n",
       "      <td>1559.0</td>\n",
       "      <td>972.0</td>\n",
       "      <td>13.3</td>\n",
       "      <td>47.7</td>\n",
       "      <td>0.7255</td>\n",
       "      <td>NaN</td>\n",
       "      <td>NaN</td>\n",
       "    </tr>\n",
       "    <tr>\n",
       "      <th>2</th>\n",
       "      <td>10/03/2004</td>\n",
       "      <td>20.00.00</td>\n",
       "      <td>2.2</td>\n",
       "      <td>1402.0</td>\n",
       "      <td>88.0</td>\n",
       "      <td>9.0</td>\n",
       "      <td>939.0</td>\n",
       "      <td>131.0</td>\n",
       "      <td>1140.0</td>\n",
       "      <td>114.0</td>\n",
       "      <td>1555.0</td>\n",
       "      <td>1074.0</td>\n",
       "      <td>11.9</td>\n",
       "      <td>54.0</td>\n",
       "      <td>0.7502</td>\n",
       "      <td>NaN</td>\n",
       "      <td>NaN</td>\n",
       "    </tr>\n",
       "    <tr>\n",
       "      <th>3</th>\n",
       "      <td>10/03/2004</td>\n",
       "      <td>21.00.00</td>\n",
       "      <td>2.2</td>\n",
       "      <td>1376.0</td>\n",
       "      <td>80.0</td>\n",
       "      <td>9.2</td>\n",
       "      <td>948.0</td>\n",
       "      <td>172.0</td>\n",
       "      <td>1092.0</td>\n",
       "      <td>122.0</td>\n",
       "      <td>1584.0</td>\n",
       "      <td>1203.0</td>\n",
       "      <td>11.0</td>\n",
       "      <td>60.0</td>\n",
       "      <td>0.7867</td>\n",
       "      <td>NaN</td>\n",
       "      <td>NaN</td>\n",
       "    </tr>\n",
       "    <tr>\n",
       "      <th>4</th>\n",
       "      <td>10/03/2004</td>\n",
       "      <td>22.00.00</td>\n",
       "      <td>1.6</td>\n",
       "      <td>1272.0</td>\n",
       "      <td>51.0</td>\n",
       "      <td>6.5</td>\n",
       "      <td>836.0</td>\n",
       "      <td>131.0</td>\n",
       "      <td>1205.0</td>\n",
       "      <td>116.0</td>\n",
       "      <td>1490.0</td>\n",
       "      <td>1110.0</td>\n",
       "      <td>11.2</td>\n",
       "      <td>59.6</td>\n",
       "      <td>0.7888</td>\n",
       "      <td>NaN</td>\n",
       "      <td>NaN</td>\n",
       "    </tr>\n",
       "    <tr>\n",
       "      <th>...</th>\n",
       "      <td>...</td>\n",
       "      <td>...</td>\n",
       "      <td>...</td>\n",
       "      <td>...</td>\n",
       "      <td>...</td>\n",
       "      <td>...</td>\n",
       "      <td>...</td>\n",
       "      <td>...</td>\n",
       "      <td>...</td>\n",
       "      <td>...</td>\n",
       "      <td>...</td>\n",
       "      <td>...</td>\n",
       "      <td>...</td>\n",
       "      <td>...</td>\n",
       "      <td>...</td>\n",
       "      <td>...</td>\n",
       "      <td>...</td>\n",
       "    </tr>\n",
       "    <tr>\n",
       "      <th>9466</th>\n",
       "      <td>NaN</td>\n",
       "      <td>NaN</td>\n",
       "      <td>NaN</td>\n",
       "      <td>NaN</td>\n",
       "      <td>NaN</td>\n",
       "      <td>NaN</td>\n",
       "      <td>NaN</td>\n",
       "      <td>NaN</td>\n",
       "      <td>NaN</td>\n",
       "      <td>NaN</td>\n",
       "      <td>NaN</td>\n",
       "      <td>NaN</td>\n",
       "      <td>NaN</td>\n",
       "      <td>NaN</td>\n",
       "      <td>NaN</td>\n",
       "      <td>NaN</td>\n",
       "      <td>NaN</td>\n",
       "    </tr>\n",
       "    <tr>\n",
       "      <th>9467</th>\n",
       "      <td>NaN</td>\n",
       "      <td>NaN</td>\n",
       "      <td>NaN</td>\n",
       "      <td>NaN</td>\n",
       "      <td>NaN</td>\n",
       "      <td>NaN</td>\n",
       "      <td>NaN</td>\n",
       "      <td>NaN</td>\n",
       "      <td>NaN</td>\n",
       "      <td>NaN</td>\n",
       "      <td>NaN</td>\n",
       "      <td>NaN</td>\n",
       "      <td>NaN</td>\n",
       "      <td>NaN</td>\n",
       "      <td>NaN</td>\n",
       "      <td>NaN</td>\n",
       "      <td>NaN</td>\n",
       "    </tr>\n",
       "    <tr>\n",
       "      <th>9468</th>\n",
       "      <td>NaN</td>\n",
       "      <td>NaN</td>\n",
       "      <td>NaN</td>\n",
       "      <td>NaN</td>\n",
       "      <td>NaN</td>\n",
       "      <td>NaN</td>\n",
       "      <td>NaN</td>\n",
       "      <td>NaN</td>\n",
       "      <td>NaN</td>\n",
       "      <td>NaN</td>\n",
       "      <td>NaN</td>\n",
       "      <td>NaN</td>\n",
       "      <td>NaN</td>\n",
       "      <td>NaN</td>\n",
       "      <td>NaN</td>\n",
       "      <td>NaN</td>\n",
       "      <td>NaN</td>\n",
       "    </tr>\n",
       "    <tr>\n",
       "      <th>9469</th>\n",
       "      <td>NaN</td>\n",
       "      <td>NaN</td>\n",
       "      <td>NaN</td>\n",
       "      <td>NaN</td>\n",
       "      <td>NaN</td>\n",
       "      <td>NaN</td>\n",
       "      <td>NaN</td>\n",
       "      <td>NaN</td>\n",
       "      <td>NaN</td>\n",
       "      <td>NaN</td>\n",
       "      <td>NaN</td>\n",
       "      <td>NaN</td>\n",
       "      <td>NaN</td>\n",
       "      <td>NaN</td>\n",
       "      <td>NaN</td>\n",
       "      <td>NaN</td>\n",
       "      <td>NaN</td>\n",
       "    </tr>\n",
       "    <tr>\n",
       "      <th>9470</th>\n",
       "      <td>NaN</td>\n",
       "      <td>NaN</td>\n",
       "      <td>NaN</td>\n",
       "      <td>NaN</td>\n",
       "      <td>NaN</td>\n",
       "      <td>NaN</td>\n",
       "      <td>NaN</td>\n",
       "      <td>NaN</td>\n",
       "      <td>NaN</td>\n",
       "      <td>NaN</td>\n",
       "      <td>NaN</td>\n",
       "      <td>NaN</td>\n",
       "      <td>NaN</td>\n",
       "      <td>NaN</td>\n",
       "      <td>NaN</td>\n",
       "      <td>NaN</td>\n",
       "      <td>NaN</td>\n",
       "    </tr>\n",
       "  </tbody>\n",
       "</table>\n",
       "<p>9471 rows × 17 columns</p>\n",
       "</div>"
      ],
      "text/plain": [
       "            Date      Time  CO(GT)  PT08.S1(CO)  NMHC(GT)  C6H6(GT)  \\\n",
       "0     10/03/2004  18.00.00     2.6       1360.0     150.0      11.9   \n",
       "1     10/03/2004  19.00.00     2.0       1292.0     112.0       9.4   \n",
       "2     10/03/2004  20.00.00     2.2       1402.0      88.0       9.0   \n",
       "3     10/03/2004  21.00.00     2.2       1376.0      80.0       9.2   \n",
       "4     10/03/2004  22.00.00     1.6       1272.0      51.0       6.5   \n",
       "...          ...       ...     ...          ...       ...       ...   \n",
       "9466         NaN       NaN     NaN          NaN       NaN       NaN   \n",
       "9467         NaN       NaN     NaN          NaN       NaN       NaN   \n",
       "9468         NaN       NaN     NaN          NaN       NaN       NaN   \n",
       "9469         NaN       NaN     NaN          NaN       NaN       NaN   \n",
       "9470         NaN       NaN     NaN          NaN       NaN       NaN   \n",
       "\n",
       "      PT08.S2(NMHC)  NOx(GT)  PT08.S3(NOx)  NO2(GT)  PT08.S4(NO2)  \\\n",
       "0            1046.0    166.0        1056.0    113.0        1692.0   \n",
       "1             955.0    103.0        1174.0     92.0        1559.0   \n",
       "2             939.0    131.0        1140.0    114.0        1555.0   \n",
       "3             948.0    172.0        1092.0    122.0        1584.0   \n",
       "4             836.0    131.0        1205.0    116.0        1490.0   \n",
       "...             ...      ...           ...      ...           ...   \n",
       "9466            NaN      NaN           NaN      NaN           NaN   \n",
       "9467            NaN      NaN           NaN      NaN           NaN   \n",
       "9468            NaN      NaN           NaN      NaN           NaN   \n",
       "9469            NaN      NaN           NaN      NaN           NaN   \n",
       "9470            NaN      NaN           NaN      NaN           NaN   \n",
       "\n",
       "      PT08.S5(O3)     T    RH      AH  Unnamed: 15  Unnamed: 16  \n",
       "0          1268.0  13.6  48.9  0.7578          NaN          NaN  \n",
       "1           972.0  13.3  47.7  0.7255          NaN          NaN  \n",
       "2          1074.0  11.9  54.0  0.7502          NaN          NaN  \n",
       "3          1203.0  11.0  60.0  0.7867          NaN          NaN  \n",
       "4          1110.0  11.2  59.6  0.7888          NaN          NaN  \n",
       "...           ...   ...   ...     ...          ...          ...  \n",
       "9466          NaN   NaN   NaN     NaN          NaN          NaN  \n",
       "9467          NaN   NaN   NaN     NaN          NaN          NaN  \n",
       "9468          NaN   NaN   NaN     NaN          NaN          NaN  \n",
       "9469          NaN   NaN   NaN     NaN          NaN          NaN  \n",
       "9470          NaN   NaN   NaN     NaN          NaN          NaN  \n",
       "\n",
       "[9471 rows x 17 columns]"
      ]
     },
     "execution_count": 7,
     "metadata": {},
     "output_type": "execute_result"
    }
   ],
   "source": [
    "air_df"
   ]
  },
  {
   "cell_type": "markdown",
   "id": "c2db6102",
   "metadata": {},
   "source": [
    "## Tidying the Dataset"
   ]
  },
  {
   "cell_type": "code",
   "execution_count": 8,
   "id": "64f60d93",
   "metadata": {},
   "outputs": [
    {
     "data": {
      "text/plain": [
       "(9471, 17)"
      ]
     },
     "execution_count": 8,
     "metadata": {},
     "output_type": "execute_result"
    }
   ],
   "source": [
    "air_df.shape"
   ]
  },
  {
   "cell_type": "markdown",
   "id": "8de6b3f3",
   "metadata": {},
   "source": [
    "There should be 9358 rows since there are only 9358 instances. "
   ]
  },
  {
   "cell_type": "code",
   "execution_count": 9,
   "id": "539ff6e5",
   "metadata": {},
   "outputs": [],
   "source": [
    "# dropping NaN values\n",
    "air_df.dropna(axis=0, how= 'all', inplace=True)\n",
    "air_df.dropna(axis=1, inplace=True)"
   ]
  },
  {
   "cell_type": "code",
   "execution_count": 10,
   "id": "4cd90fc0",
   "metadata": {},
   "outputs": [
    {
     "name": "stderr",
     "output_type": "stream",
     "text": [
      "C:\\Users\\Advaith\\AppData\\Local\\Temp/ipykernel_13168/2199972590.py:3: FutureWarning: Dropping of nuisance columns in DataFrame reductions (with 'numeric_only=None') is deprecated; in a future version this will raise TypeError.  Select only valid columns before calling the reduction.\n",
      "  air_df.fillna(air_df.mean(), inplace= True)\n"
     ]
    }
   ],
   "source": [
    "# replacing missing values with avg\n",
    "air_df.replace(to_replace= -200, value= np.NaN, inplace= True)\n",
    "air_df.fillna(air_df.mean(), inplace= True)"
   ]
  },
  {
   "cell_type": "code",
   "execution_count": 11,
   "id": "9f72e169",
   "metadata": {},
   "outputs": [
    {
     "data": {
      "text/plain": [
       "(9357, 15)"
      ]
     },
     "execution_count": 11,
     "metadata": {},
     "output_type": "execute_result"
    }
   ],
   "source": [
    "air_df.shape"
   ]
  },
  {
   "cell_type": "markdown",
   "id": "097b4492",
   "metadata": {},
   "source": [
    "The target for this dataset in Temperature (T). Since Temperature is a quantity, it is a continuous target. Regression is supervised learning for a continuous target, so I'm going to extend the regression analysis I did in assignment 8.\n",
    "\n",
    "## Objective\n",
    "\n",
    "The goal is to optimize the parameters of the regression model I made in my original regression analysis. Before we  perform this task, let's look at the regression analysis again."
   ]
  },
  {
   "cell_type": "code",
   "execution_count": 12,
   "id": "88e2715b",
   "metadata": {},
   "outputs": [],
   "source": [
    "# defining the target variable vs other features that contribute\n",
    "feature_vars = air_df\n",
    "target_var = air_df['T']\n",
    "feature_vars = feature_vars.drop('T', axis = 1)"
   ]
  },
  {
   "cell_type": "code",
   "execution_count": 13,
   "id": "fd7b9940",
   "metadata": {},
   "outputs": [
    {
     "data": {
      "text/plain": [
       "Index(['Date', 'Time', 'CO(GT)', 'PT08.S1(CO)', 'NMHC(GT)', 'C6H6(GT)',\n",
       "       'PT08.S2(NMHC)', 'NOx(GT)', 'PT08.S3(NOx)', 'NO2(GT)', 'PT08.S4(NO2)',\n",
       "       'PT08.S5(O3)', 'RH', 'AH'],\n",
       "      dtype='object')"
      ]
     },
     "execution_count": 13,
     "metadata": {},
     "output_type": "execute_result"
    }
   ],
   "source": [
    "feature_vars.columns"
   ]
  },
  {
   "cell_type": "code",
   "execution_count": 14,
   "id": "6741fdfe",
   "metadata": {},
   "outputs": [],
   "source": [
    "# dropping irrelevant features\n",
    "feature_vars = feature_vars.drop('Date', axis = 1)\n",
    "feature_vars = feature_vars.drop('Time', axis = 1)"
   ]
  },
  {
   "cell_type": "markdown",
   "id": "12501448",
   "metadata": {},
   "source": [
    "## Fitting a Regression Model\n",
    "Testing it on 25% held out test data and measure the fit with two metrics and one plot"
   ]
  },
  {
   "cell_type": "code",
   "execution_count": 15,
   "id": "29c8904e",
   "metadata": {},
   "outputs": [],
   "source": [
    "# fitting a linear model with 75% training data\n",
    "X_train,X_test, y_train,y_test = train_test_split(feature_vars, target_var, train_size=.75)"
   ]
  },
  {
   "cell_type": "code",
   "execution_count": 16,
   "id": "070d7635",
   "metadata": {},
   "outputs": [],
   "source": [
    "regr_db = linear_model.LinearRegression()"
   ]
  },
  {
   "cell_type": "code",
   "execution_count": 17,
   "id": "09f8f2d5",
   "metadata": {},
   "outputs": [
    {
     "data": {
      "text/plain": [
       "LinearRegression()"
      ]
     },
     "execution_count": 17,
     "metadata": {},
     "output_type": "execute_result"
    }
   ],
   "source": [
    "regr_db.fit(X_train,y_train)"
   ]
  },
  {
   "cell_type": "code",
   "execution_count": 18,
   "id": "f352dadf",
   "metadata": {},
   "outputs": [
    {
     "data": {
      "text/plain": [
       "(2340,)"
      ]
     },
     "execution_count": 18,
     "metadata": {},
     "output_type": "execute_result"
    }
   ],
   "source": [
    "#Predict using the linear model.\n",
    "y_pred = regr_db.predict(X_test)\n",
    "y_pred.shape"
   ]
  },
  {
   "cell_type": "markdown",
   "id": "780b6590",
   "metadata": {},
   "source": [
    "### Computing the R^2 score for linear regression.\n",
    "\n",
    "The coefficient of determination or R^2 represents the proportion of variance (of y) that has been explained by the independent variables in the model. It provides an indication of goodness of fit and a measure of how well unseen samples are likely to be predicted by the model, through the proportion of explained variance.\n",
    "\n",
    "[Source](https://scikit-learn.org/stable/modules/model_evaluation.html#r2-score)"
   ]
  },
  {
   "cell_type": "code",
   "execution_count": 19,
   "id": "009ea907",
   "metadata": {},
   "outputs": [
    {
     "data": {
      "text/plain": [
       "0.9279822022172372"
      ]
     },
     "execution_count": 19,
     "metadata": {},
     "output_type": "execute_result"
    }
   ],
   "source": [
    "regr_db.score(X_test,y_test)"
   ]
  },
  {
   "cell_type": "code",
   "execution_count": 20,
   "id": "cabe2644",
   "metadata": {},
   "outputs": [
    {
     "data": {
      "text/plain": [
       "0.9279822022172372"
      ]
     },
     "execution_count": 20,
     "metadata": {},
     "output_type": "execute_result"
    }
   ],
   "source": [
    "r2_score(y_test, y_pred)"
   ]
  },
  {
   "cell_type": "markdown",
   "id": "dd70bc38",
   "metadata": {},
   "source": [
    "With all the features we get a R^2 score (coefficient of determination) of 0.9299834598762752. This means that ~93% of the data points fall on the regression line and ~93% of the independent/predictor variables in this model explain all the variation in y (Temperature)."
   ]
  },
  {
   "cell_type": "markdown",
   "id": "fe3fbedb",
   "metadata": {},
   "source": [
    "### Examinging the Coefficients"
   ]
  },
  {
   "cell_type": "code",
   "execution_count": 21,
   "id": "d60abff9",
   "metadata": {},
   "outputs": [
    {
     "data": {
      "text/plain": [
       "(array([-2.18435299e-01,  2.79087493e-04, -6.12833087e-04, -3.92355532e-01,\n",
       "         1.12740296e-02,  2.42707582e-03,  5.46660768e-04, -1.66973774e-03,\n",
       "         5.42322523e-03, -2.86148843e-03, -3.38846037e-01,  1.40557012e+01]),\n",
       " 8.414555615311057)"
      ]
     },
     "execution_count": 21,
     "metadata": {},
     "output_type": "execute_result"
    }
   ],
   "source": [
    "regr_db.coef_, regr_db.intercept_"
   ]
  },
  {
   "cell_type": "code",
   "execution_count": 22,
   "id": "adce055b",
   "metadata": {},
   "outputs": [
    {
     "data": {
      "text/plain": [
       "Index(['CO(GT)', 'PT08.S1(CO)', 'NMHC(GT)', 'C6H6(GT)', 'PT08.S2(NMHC)',\n",
       "       'NOx(GT)', 'PT08.S3(NOx)', 'NO2(GT)', 'PT08.S4(NO2)', 'PT08.S5(O3)',\n",
       "       'RH', 'AH'],\n",
       "      dtype='object')"
      ]
     },
     "execution_count": 22,
     "metadata": {},
     "output_type": "execute_result"
    }
   ],
   "source": [
    "feature_vars.columns"
   ]
  },
  {
   "cell_type": "markdown",
   "id": "dcace202",
   "metadata": {},
   "source": [
    "The linear model is:\n",
    "\n",
    "Temperature = 8.6321 - 0.1776CO(GT) + 0.0001PT08.S1(CO) - 0.0007NMHC(GT) - 0.3871C6H6(GT) + 0.0111PT08.S2(NMHC) +0.0021NOx(GT) + 0.0005PT08.S3(NOx) - 0.0004NO2(GT) + 0.0053PT08.S4(NO2)' - 0.0028PT08.S5(O3) - 0.3393RH + 14.1653AH."
   ]
  },
  {
   "cell_type": "markdown",
   "id": "faf8a027",
   "metadata": {},
   "source": [
    "### Examining the Residuals\n",
    "\n",
    "Residuals are the vertical distance between a data point and the regression line. They are the difference between any data point and the regression line, and are sometimes called “errors.” They  indicate the extent to which a model accounts for the variation in the observed data.\n",
    "\n",
    "The residual plot is below. The red lines represent the residuals"
   ]
  },
  {
   "cell_type": "code",
   "execution_count": 23,
   "id": "20cf5135",
   "metadata": {},
   "outputs": [
    {
     "data": {
      "text/plain": [
       "Text(0, 0.5, 'Residuals')"
      ]
     },
     "execution_count": 23,
     "metadata": {},
     "output_type": "execute_result"
    },
    {
     "data": {
      "image/png": "[encoded data removed]",
      "text/plain": [
       "<Figure size 432x288 with 1 Axes>"
      ]
     },
     "metadata": {
      "needs_background": "light"
     },
     "output_type": "display_data"
    }
   ],
   "source": [
    "plt.scatter(y_test,y_pred, color='black')\n",
    "plt.plot(y_pred,y_pred, color='blue', linewidth=3)\n",
    "\n",
    "# draw vertical lines frome each data point to its predict value\n",
    "[plt.plot([x,x],[yp,yt], color='red', linewidth=3)\n",
    "         for x, yp, yt in zip(y_test, y_pred,y_test)]\n",
    "\n",
    "plt.title('Residuals vs. Temperature')\n",
    "plt.xlabel('Temperature')\n",
    "plt.ylabel('Residuals')"
   ]
  },
  {
   "cell_type": "markdown",
   "id": "fcc7f4a1",
   "metadata": {},
   "source": [
    "The plot shows us that the residuals are spread out around the regression line but pretty close to it. \n",
    "\n",
    "### MSE\n",
    "\n",
    "Mean squared error (MSE) measures the amount of error in a model, looking at the average squared difference between the observed and predicted values. The lower the MSE value there more accurate the model is.\n",
    "\n",
    "By calculating MSE we are geeting the avg length of all the residuals to cpature the error in this model."
   ]
  },
  {
   "cell_type": "code",
   "execution_count": 24,
   "id": "2a073089",
   "metadata": {},
   "outputs": [
    {
     "data": {
      "text/plain": [
       "5.351128338098443"
      ]
     },
     "execution_count": 24,
     "metadata": {},
     "output_type": "execute_result"
    }
   ],
   "source": [
    "mean_squared_error(y_test,y_pred)"
   ]
  },
  {
   "cell_type": "markdown",
   "id": "faf98b42",
   "metadata": {},
   "source": [
    "The MSE is 5.18. In other words, the average squared difference between the observed and predicted values is 5.18. \n",
    "\n",
    "The predictors aren't perfect but it is a good fit, given that ~93% of the independent/predictor variables in this model explain all the variation in y and the amount of error in a model isn't extreme. Therefore, the model fits the data well."
   ]
  },
  {
   "cell_type": "markdown",
   "id": "906a82e8",
   "metadata": {},
   "source": [
    "## Cross Validation\n",
    "\n",
    "Cross validation is a technique for evaluating how well a model performs.\n",
    "\n",
    "Now we can estimate the model's performance by using CV\n",
    "\n",
    "Here I am splitting the air quality data, and computing the cross validation score 5 times with different splits each time.\n",
    "\n",
    "The accuracy of the model is the average of the accuracy of each fold."
   ]
  },
  {
   "cell_type": "code",
   "execution_count": 25,
   "id": "3b4e2390",
   "metadata": {},
   "outputs": [
    {
     "data": {
      "text/plain": [
       "array([0.72225193, 0.68631479, 0.84137025, 0.68811545, 0.64798252])"
      ]
     },
     "execution_count": 25,
     "metadata": {},
     "output_type": "execute_result"
    }
   ],
   "source": [
    "air_X = feature_vars\n",
    "air_y = target_var\n",
    "cross_val_score(regr_db,air_X,air_y)"
   ]
  },
  {
   "cell_type": "markdown",
   "id": "5d7a0502",
   "metadata": {},
   "source": [
    "This is the mean of those scores."
   ]
  },
  {
   "cell_type": "code",
   "execution_count": 26,
   "id": "7666e949",
   "metadata": {},
   "outputs": [
    {
     "data": {
      "text/plain": [
       "0.7172069884154374"
      ]
     },
     "execution_count": 26,
     "metadata": {},
     "output_type": "execute_result"
    }
   ],
   "source": [
    "np.mean(cross_val_score(regr_db,air_X,air_y))"
   ]
  },
  {
   "cell_type": "markdown",
   "id": "d830919d",
   "metadata": {},
   "source": [
    "The accuracy of model with cross validation is 71.72%. The model works pretty fits pretty good on the held out data."
   ]
  },
  {
   "cell_type": "markdown",
   "id": "6c1860de",
   "metadata": {},
   "source": [
    "## Grid Search Optimization\n",
    "\n",
    "To determine the different parameter settings, I'm going to optimize by fitting the model for different parameters and scoring for each and comparing.\n",
    "\n",
    "Our model was already fit above but I will put it here again."
   ]
  },
  {
   "cell_type": "code",
   "execution_count": 27,
   "id": "3852e712",
   "metadata": {},
   "outputs": [],
   "source": [
    "X_train,X_test, y_train,y_test = train_test_split(feature_vars, target_var,random_state=0)\n",
    "regr_db = linear_model.LinearRegression()\n",
    "regr_db.fit(X_train,y_train)\n",
    "y_pred = regr_db.predict(X_test)"
   ]
  },
  {
   "cell_type": "code",
   "execution_count": 28,
   "id": "89368995",
   "metadata": {},
   "outputs": [
    {
     "name": "stdout",
     "output_type": "stream",
     "text": [
      "Accuracy Score : 0.9302332577232275\n"
     ]
    }
   ],
   "source": [
    "print('Accuracy Score : ' + str(r2_score(y_test, y_pred)))"
   ]
  },
  {
   "cell_type": "markdown",
   "id": "11bdb612",
   "metadata": {},
   "source": [
    "The accuracy is ~93% "
   ]
  },
  {
   "cell_type": "code",
   "execution_count": 29,
   "id": "36726771",
   "metadata": {},
   "outputs": [
    {
     "data": {
      "text/plain": [
       "{'copy_X': True,\n",
       " 'fit_intercept': True,\n",
       " 'n_jobs': None,\n",
       " 'normalize': False,\n",
       " 'positive': False}"
      ]
     },
     "execution_count": 29,
     "metadata": {},
     "output_type": "execute_result"
    }
   ],
   "source": [
    "# Get default hyperparameters\n",
    "regr_db.get_params()"
   ]
  },
  {
   "cell_type": "code",
   "execution_count": 30,
   "id": "1c83724e",
   "metadata": {},
   "outputs": [
    {
     "data": {
      "text/plain": [
       "12"
      ]
     },
     "execution_count": 30,
     "metadata": {},
     "output_type": "execute_result"
    }
   ],
   "source": [
    "# number of features in X_train\n",
    "len(X_train.columns)"
   ]
  },
  {
   "cell_type": "code",
   "execution_count": 31,
   "id": "3bd2e9c8",
   "metadata": {},
   "outputs": [],
   "source": [
    "hyper_params = [{'n_features_to_select': list(range(1, 13))}]"
   ]
  },
  {
   "cell_type": "code",
   "execution_count": 32,
   "id": "c84663fc",
   "metadata": {},
   "outputs": [],
   "source": [
    "from sklearn.feature_selection import RFE"
   ]
  },
  {
   "cell_type": "code",
   "execution_count": 33,
   "id": "458bc38a",
   "metadata": {},
   "outputs": [],
   "source": [
    "rfe = RFE(regr_db) "
   ]
  },
  {
   "cell_type": "code",
   "execution_count": 34,
   "id": "ab29b834",
   "metadata": {},
   "outputs": [],
   "source": [
    "reg_opt = GridSearchCV(estimator = rfe, param_grid = hyper_params) "
   ]
  },
  {
   "cell_type": "markdown",
   "id": "348d3f25",
   "metadata": {},
   "source": [
    "Here I am optimizing the model with default paramters."
   ]
  },
  {
   "cell_type": "code",
   "execution_count": 35,
   "id": "9b02f24d",
   "metadata": {},
   "outputs": [
    {
     "data": {
      "text/plain": [
       "GridSearchCV(estimator=RFE(estimator=LinearRegression()),\n",
       "             param_grid=[{'n_features_to_select': [1, 2, 3, 4, 5, 6, 7, 8, 9,\n",
       "                                                   10, 11, 12]}])"
      ]
     },
     "execution_count": 35,
     "metadata": {},
     "output_type": "execute_result"
    }
   ],
   "source": [
    "reg_opt.fit(air_X, air_y)  "
   ]
  },
  {
   "cell_type": "code",
   "execution_count": 36,
   "id": "a0db73d8",
   "metadata": {},
   "outputs": [
    {
     "data": {
      "text/plain": [
       "{'mean_fit_time': array([0.02548561, 0.01791039, 0.01890779, 0.01730475, 0.01520109,\n",
       "        0.01531882, 0.0132072 , 0.01291132, 0.01180425, 0.00880084,\n",
       "        0.00650387, 0.00439939]),\n",
       " 'std_fit_time': array([0.0036298 , 0.00018097, 0.00168673, 0.00160125, 0.00116399,\n",
       "        0.00058716, 0.00074395, 0.00127709, 0.00133064, 0.00039912,\n",
       "        0.00077417, 0.00049166]),\n",
       " 'mean_score_time': array([0.00260215, 0.00219955, 0.0023972 , 0.00240154, 0.00210152,\n",
       "        0.00219898, 0.00240259, 0.00219674, 0.00270519, 0.0023984 ,\n",
       "        0.00200286, 0.0022017 ]),\n",
       " 'std_score_time': array([0.0004946 , 0.00040059, 0.00048899, 0.00049187, 0.00048696,\n",
       "        0.00074786, 0.00048756, 0.00039845, 0.00061098, 0.00101699,\n",
       "        0.00063475, 0.00039894]),\n",
       " 'param_n_features_to_select': masked_array(data=[1, 2, 3, 4, 5, 6, 7, 8, 9, 10, 11, 12],\n",
       "              mask=[False, False, False, False, False, False, False, False,\n",
       "                    False, False, False, False],\n",
       "        fill_value='?',\n",
       "             dtype=object),\n",
       " 'params': [{'n_features_to_select': 1},\n",
       "  {'n_features_to_select': 2},\n",
       "  {'n_features_to_select': 3},\n",
       "  {'n_features_to_select': 4},\n",
       "  {'n_features_to_select': 5},\n",
       "  {'n_features_to_select': 6},\n",
       "  {'n_features_to_select': 7},\n",
       "  {'n_features_to_select': 8},\n",
       "  {'n_features_to_select': 9},\n",
       "  {'n_features_to_select': 10},\n",
       "  {'n_features_to_select': 11},\n",
       "  {'n_features_to_select': 12}],\n",
       " 'split0_test_score': array([-0.27121575,  0.89977028,  0.90076197,  0.82330808,  0.83310332,\n",
       "         0.83301909,  0.82598679,  0.74463461,  0.73431516,  0.74819448,\n",
       "         0.72225193,  0.72225193]),\n",
       " 'split1_test_score': array([-1.50642846,  0.6476174 ,  0.65108687,  0.65102625,  0.67459139,\n",
       "         0.67844273,  0.67769753,  0.67411631,  0.68732832,  0.6866052 ,\n",
       "         0.68663032,  0.68631479]),\n",
       " 'split2_test_score': array([-0.38184928,  0.81014181,  0.80745554,  0.79214684,  0.79999201,\n",
       "         0.84177025,  0.84289175,  0.84727022,  0.84740048,  0.84356926,\n",
       "         0.84177984,  0.84137025]),\n",
       " 'split3_test_score': array([-0.5486217 ,  0.69736715,  0.70246864,  0.70341584,  0.65438271,\n",
       "         0.66552177,  0.65627912,  0.67086919,  0.68890117,  0.68843958,\n",
       "         0.68763666,  0.68811545]),\n",
       " 'split4_test_score': array([-0.07537202,  0.57740205,  0.57986708,  0.58223225,  0.5974856 ,\n",
       "         0.59417454,  0.60445127,  0.64404914,  0.65065316,  0.65094882,\n",
       "         0.64996959,  0.64798252]),\n",
       " 'mean_test_score': array([-0.55669744,  0.72645974,  0.72832802,  0.71042585,  0.71191101,\n",
       "         0.72258568,  0.72146129,  0.71618789,  0.72171966,  0.72355147,\n",
       "         0.71765367,  0.71720699]),\n",
       " 'std_test_score': array([0.49915931, 0.11516937, 0.11372791, 0.08880514, 0.08971206,\n",
       "        0.09807631, 0.09542145, 0.07351135, 0.06821229, 0.06764697,\n",
       "        0.06614084, 0.06638469]),\n",
       " 'rank_test_score': array([12,  2,  1, 11, 10,  4,  6,  9,  5,  3,  7,  8])}"
      ]
     },
     "execution_count": 36,
     "metadata": {},
     "output_type": "execute_result"
    }
   ],
   "source": [
    "reg_opt.cv_results_"
   ]
  },
  {
   "cell_type": "code",
   "execution_count": 37,
   "id": "33ae67b6",
   "metadata": {},
   "outputs": [
    {
     "data": {
      "text/html": [
       "<div>\n",
       "<style scoped>\n",
       "    .dataframe tbody tr th:only-of-type {\n",
       "        vertical-align: middle;\n",
       "    }\n",
       "\n",
       "    .dataframe tbody tr th {\n",
       "        vertical-align: top;\n",
       "    }\n",
       "\n",
       "    .dataframe thead th {\n",
       "        text-align: right;\n",
       "    }\n",
       "</style>\n",
       "<table border=\"1\" class=\"dataframe\">\n",
       "  <thead>\n",
       "    <tr style=\"text-align: right;\">\n",
       "      <th></th>\n",
       "      <th>mean_fit_time</th>\n",
       "      <th>std_fit_time</th>\n",
       "      <th>mean_score_time</th>\n",
       "      <th>std_score_time</th>\n",
       "      <th>param_n_features_to_select</th>\n",
       "      <th>params</th>\n",
       "      <th>split0_test_score</th>\n",
       "      <th>split1_test_score</th>\n",
       "      <th>split2_test_score</th>\n",
       "      <th>split3_test_score</th>\n",
       "      <th>split4_test_score</th>\n",
       "      <th>mean_test_score</th>\n",
       "      <th>std_test_score</th>\n",
       "      <th>rank_test_score</th>\n",
       "    </tr>\n",
       "  </thead>\n",
       "  <tbody>\n",
       "    <tr>\n",
       "      <th>0</th>\n",
       "      <td>0.025486</td>\n",
       "      <td>0.003630</td>\n",
       "      <td>0.002602</td>\n",
       "      <td>0.000495</td>\n",
       "      <td>1</td>\n",
       "      <td>{'n_features_to_select': 1}</td>\n",
       "      <td>-0.271216</td>\n",
       "      <td>-1.506428</td>\n",
       "      <td>-0.381849</td>\n",
       "      <td>-0.548622</td>\n",
       "      <td>-0.075372</td>\n",
       "      <td>-0.556697</td>\n",
       "      <td>0.499159</td>\n",
       "      <td>12</td>\n",
       "    </tr>\n",
       "    <tr>\n",
       "      <th>1</th>\n",
       "      <td>0.017910</td>\n",
       "      <td>0.000181</td>\n",
       "      <td>0.002200</td>\n",
       "      <td>0.000401</td>\n",
       "      <td>2</td>\n",
       "      <td>{'n_features_to_select': 2}</td>\n",
       "      <td>0.899770</td>\n",
       "      <td>0.647617</td>\n",
       "      <td>0.810142</td>\n",
       "      <td>0.697367</td>\n",
       "      <td>0.577402</td>\n",
       "      <td>0.726460</td>\n",
       "      <td>0.115169</td>\n",
       "      <td>2</td>\n",
       "    </tr>\n",
       "    <tr>\n",
       "      <th>2</th>\n",
       "      <td>0.018908</td>\n",
       "      <td>0.001687</td>\n",
       "      <td>0.002397</td>\n",
       "      <td>0.000489</td>\n",
       "      <td>3</td>\n",
       "      <td>{'n_features_to_select': 3}</td>\n",
       "      <td>0.900762</td>\n",
       "      <td>0.651087</td>\n",
       "      <td>0.807456</td>\n",
       "      <td>0.702469</td>\n",
       "      <td>0.579867</td>\n",
       "      <td>0.728328</td>\n",
       "      <td>0.113728</td>\n",
       "      <td>1</td>\n",
       "    </tr>\n",
       "    <tr>\n",
       "      <th>3</th>\n",
       "      <td>0.017305</td>\n",
       "      <td>0.001601</td>\n",
       "      <td>0.002402</td>\n",
       "      <td>0.000492</td>\n",
       "      <td>4</td>\n",
       "      <td>{'n_features_to_select': 4}</td>\n",
       "      <td>0.823308</td>\n",
       "      <td>0.651026</td>\n",
       "      <td>0.792147</td>\n",
       "      <td>0.703416</td>\n",
       "      <td>0.582232</td>\n",
       "      <td>0.710426</td>\n",
       "      <td>0.088805</td>\n",
       "      <td>11</td>\n",
       "    </tr>\n",
       "    <tr>\n",
       "      <th>4</th>\n",
       "      <td>0.015201</td>\n",
       "      <td>0.001164</td>\n",
       "      <td>0.002102</td>\n",
       "      <td>0.000487</td>\n",
       "      <td>5</td>\n",
       "      <td>{'n_features_to_select': 5}</td>\n",
       "      <td>0.833103</td>\n",
       "      <td>0.674591</td>\n",
       "      <td>0.799992</td>\n",
       "      <td>0.654383</td>\n",
       "      <td>0.597486</td>\n",
       "      <td>0.711911</td>\n",
       "      <td>0.089712</td>\n",
       "      <td>10</td>\n",
       "    </tr>\n",
       "    <tr>\n",
       "      <th>5</th>\n",
       "      <td>0.015319</td>\n",
       "      <td>0.000587</td>\n",
       "      <td>0.002199</td>\n",
       "      <td>0.000748</td>\n",
       "      <td>6</td>\n",
       "      <td>{'n_features_to_select': 6}</td>\n",
       "      <td>0.833019</td>\n",
       "      <td>0.678443</td>\n",
       "      <td>0.841770</td>\n",
       "      <td>0.665522</td>\n",
       "      <td>0.594175</td>\n",
       "      <td>0.722586</td>\n",
       "      <td>0.098076</td>\n",
       "      <td>4</td>\n",
       "    </tr>\n",
       "    <tr>\n",
       "      <th>6</th>\n",
       "      <td>0.013207</td>\n",
       "      <td>0.000744</td>\n",
       "      <td>0.002403</td>\n",
       "      <td>0.000488</td>\n",
       "      <td>7</td>\n",
       "      <td>{'n_features_to_select': 7}</td>\n",
       "      <td>0.825987</td>\n",
       "      <td>0.677698</td>\n",
       "      <td>0.842892</td>\n",
       "      <td>0.656279</td>\n",
       "      <td>0.604451</td>\n",
       "      <td>0.721461</td>\n",
       "      <td>0.095421</td>\n",
       "      <td>6</td>\n",
       "    </tr>\n",
       "    <tr>\n",
       "      <th>7</th>\n",
       "      <td>0.012911</td>\n",
       "      <td>0.001277</td>\n",
       "      <td>0.002197</td>\n",
       "      <td>0.000398</td>\n",
       "      <td>8</td>\n",
       "      <td>{'n_features_to_select': 8}</td>\n",
       "      <td>0.744635</td>\n",
       "      <td>0.674116</td>\n",
       "      <td>0.847270</td>\n",
       "      <td>0.670869</td>\n",
       "      <td>0.644049</td>\n",
       "      <td>0.716188</td>\n",
       "      <td>0.073511</td>\n",
       "      <td>9</td>\n",
       "    </tr>\n",
       "    <tr>\n",
       "      <th>8</th>\n",
       "      <td>0.011804</td>\n",
       "      <td>0.001331</td>\n",
       "      <td>0.002705</td>\n",
       "      <td>0.000611</td>\n",
       "      <td>9</td>\n",
       "      <td>{'n_features_to_select': 9}</td>\n",
       "      <td>0.734315</td>\n",
       "      <td>0.687328</td>\n",
       "      <td>0.847400</td>\n",
       "      <td>0.688901</td>\n",
       "      <td>0.650653</td>\n",
       "      <td>0.721720</td>\n",
       "      <td>0.068212</td>\n",
       "      <td>5</td>\n",
       "    </tr>\n",
       "    <tr>\n",
       "      <th>9</th>\n",
       "      <td>0.008801</td>\n",
       "      <td>0.000399</td>\n",
       "      <td>0.002398</td>\n",
       "      <td>0.001017</td>\n",
       "      <td>10</td>\n",
       "      <td>{'n_features_to_select': 10}</td>\n",
       "      <td>0.748194</td>\n",
       "      <td>0.686605</td>\n",
       "      <td>0.843569</td>\n",
       "      <td>0.688440</td>\n",
       "      <td>0.650949</td>\n",
       "      <td>0.723551</td>\n",
       "      <td>0.067647</td>\n",
       "      <td>3</td>\n",
       "    </tr>\n",
       "    <tr>\n",
       "      <th>10</th>\n",
       "      <td>0.006504</td>\n",
       "      <td>0.000774</td>\n",
       "      <td>0.002003</td>\n",
       "      <td>0.000635</td>\n",
       "      <td>11</td>\n",
       "      <td>{'n_features_to_select': 11}</td>\n",
       "      <td>0.722252</td>\n",
       "      <td>0.686630</td>\n",
       "      <td>0.841780</td>\n",
       "      <td>0.687637</td>\n",
       "      <td>0.649970</td>\n",
       "      <td>0.717654</td>\n",
       "      <td>0.066141</td>\n",
       "      <td>7</td>\n",
       "    </tr>\n",
       "    <tr>\n",
       "      <th>11</th>\n",
       "      <td>0.004399</td>\n",
       "      <td>0.000492</td>\n",
       "      <td>0.002202</td>\n",
       "      <td>0.000399</td>\n",
       "      <td>12</td>\n",
       "      <td>{'n_features_to_select': 12}</td>\n",
       "      <td>0.722252</td>\n",
       "      <td>0.686315</td>\n",
       "      <td>0.841370</td>\n",
       "      <td>0.688115</td>\n",
       "      <td>0.647983</td>\n",
       "      <td>0.717207</td>\n",
       "      <td>0.066385</td>\n",
       "      <td>8</td>\n",
       "    </tr>\n",
       "  </tbody>\n",
       "</table>\n",
       "</div>"
      ],
      "text/plain": [
       "    mean_fit_time  std_fit_time  mean_score_time  std_score_time  \\\n",
       "0        0.025486      0.003630         0.002602        0.000495   \n",
       "1        0.017910      0.000181         0.002200        0.000401   \n",
       "2        0.018908      0.001687         0.002397        0.000489   \n",
       "3        0.017305      0.001601         0.002402        0.000492   \n",
       "4        0.015201      0.001164         0.002102        0.000487   \n",
       "5        0.015319      0.000587         0.002199        0.000748   \n",
       "6        0.013207      0.000744         0.002403        0.000488   \n",
       "7        0.012911      0.001277         0.002197        0.000398   \n",
       "8        0.011804      0.001331         0.002705        0.000611   \n",
       "9        0.008801      0.000399         0.002398        0.001017   \n",
       "10       0.006504      0.000774         0.002003        0.000635   \n",
       "11       0.004399      0.000492         0.002202        0.000399   \n",
       "\n",
       "   param_n_features_to_select                        params  \\\n",
       "0                           1   {'n_features_to_select': 1}   \n",
       "1                           2   {'n_features_to_select': 2}   \n",
       "2                           3   {'n_features_to_select': 3}   \n",
       "3                           4   {'n_features_to_select': 4}   \n",
       "4                           5   {'n_features_to_select': 5}   \n",
       "5                           6   {'n_features_to_select': 6}   \n",
       "6                           7   {'n_features_to_select': 7}   \n",
       "7                           8   {'n_features_to_select': 8}   \n",
       "8                           9   {'n_features_to_select': 9}   \n",
       "9                          10  {'n_features_to_select': 10}   \n",
       "10                         11  {'n_features_to_select': 11}   \n",
       "11                         12  {'n_features_to_select': 12}   \n",
       "\n",
       "    split0_test_score  split1_test_score  split2_test_score  \\\n",
       "0           -0.271216          -1.506428          -0.381849   \n",
       "1            0.899770           0.647617           0.810142   \n",
       "2            0.900762           0.651087           0.807456   \n",
       "3            0.823308           0.651026           0.792147   \n",
       "4            0.833103           0.674591           0.799992   \n",
       "5            0.833019           0.678443           0.841770   \n",
       "6            0.825987           0.677698           0.842892   \n",
       "7            0.744635           0.674116           0.847270   \n",
       "8            0.734315           0.687328           0.847400   \n",
       "9            0.748194           0.686605           0.843569   \n",
       "10           0.722252           0.686630           0.841780   \n",
       "11           0.722252           0.686315           0.841370   \n",
       "\n",
       "    split3_test_score  split4_test_score  mean_test_score  std_test_score  \\\n",
       "0           -0.548622          -0.075372        -0.556697        0.499159   \n",
       "1            0.697367           0.577402         0.726460        0.115169   \n",
       "2            0.702469           0.579867         0.728328        0.113728   \n",
       "3            0.703416           0.582232         0.710426        0.088805   \n",
       "4            0.654383           0.597486         0.711911        0.089712   \n",
       "5            0.665522           0.594175         0.722586        0.098076   \n",
       "6            0.656279           0.604451         0.721461        0.095421   \n",
       "7            0.670869           0.644049         0.716188        0.073511   \n",
       "8            0.688901           0.650653         0.721720        0.068212   \n",
       "9            0.688440           0.650949         0.723551        0.067647   \n",
       "10           0.687637           0.649970         0.717654        0.066141   \n",
       "11           0.688115           0.647983         0.717207        0.066385   \n",
       "\n",
       "    rank_test_score  \n",
       "0                12  \n",
       "1                 2  \n",
       "2                 1  \n",
       "3                11  \n",
       "4                10  \n",
       "5                 4  \n",
       "6                 6  \n",
       "7                 9  \n",
       "8                 5  \n",
       "9                 3  \n",
       "10                7  \n",
       "11                8  "
      ]
     },
     "execution_count": 37,
     "metadata": {},
     "output_type": "execute_result"
    }
   ],
   "source": [
    "pd.DataFrame(reg_opt.cv_results_)"
   ]
  },
  {
   "cell_type": "markdown",
   "id": "b5480c59",
   "metadata": {},
   "source": [
    "Now I'm using it to get predicitions and get the score."
   ]
  },
  {
   "cell_type": "code",
   "execution_count": 38,
   "id": "820d792f",
   "metadata": {},
   "outputs": [],
   "source": [
    "y_pred = reg_opt.predict(X_test)"
   ]
  },
  {
   "cell_type": "code",
   "execution_count": 39,
   "id": "751625d0",
   "metadata": {},
   "outputs": [
    {
     "data": {
      "text/plain": [
       "GridSearchCV(estimator=RFE(estimator=LinearRegression()),\n",
       "             param_grid=[{'n_features_to_select': [1, 2, 3, 4, 5, 6, 7, 8, 9,\n",
       "                                                   10, 11, 12]}])"
      ]
     },
     "execution_count": 39,
     "metadata": {},
     "output_type": "execute_result"
    }
   ],
   "source": [
    "reg_opt.fit(X_train,y_train)"
   ]
  },
  {
   "cell_type": "code",
   "execution_count": 40,
   "id": "77915a23",
   "metadata": {},
   "outputs": [
    {
     "data": {
      "text/plain": [
       "0.9301609709121904"
      ]
     },
     "execution_count": 40,
     "metadata": {},
     "output_type": "execute_result"
    }
   ],
   "source": [
    "reg_opt.score(X_test,y_test)"
   ]
  },
  {
   "cell_type": "markdown",
   "id": "23e5420a",
   "metadata": {},
   "source": [
    "The accuracy is still ~92%."
   ]
  },
  {
   "cell_type": "markdown",
   "id": "361eaaaf",
   "metadata": {},
   "source": [
    "And the overall results."
   ]
  },
  {
   "cell_type": "code",
   "execution_count": 41,
   "id": "34d7c01b",
   "metadata": {},
   "outputs": [
    {
     "data": {
      "text/html": [
       "<div>\n",
       "<style scoped>\n",
       "    .dataframe tbody tr th:only-of-type {\n",
       "        vertical-align: middle;\n",
       "    }\n",
       "\n",
       "    .dataframe tbody tr th {\n",
       "        vertical-align: top;\n",
       "    }\n",
       "\n",
       "    .dataframe thead th {\n",
       "        text-align: right;\n",
       "    }\n",
       "</style>\n",
       "<table border=\"1\" class=\"dataframe\">\n",
       "  <thead>\n",
       "    <tr style=\"text-align: right;\">\n",
       "      <th></th>\n",
       "      <th>mean_fit_time</th>\n",
       "      <th>std_fit_time</th>\n",
       "      <th>mean_score_time</th>\n",
       "      <th>std_score_time</th>\n",
       "      <th>param_n_features_to_select</th>\n",
       "      <th>params</th>\n",
       "      <th>split0_test_score</th>\n",
       "      <th>split1_test_score</th>\n",
       "      <th>split2_test_score</th>\n",
       "      <th>split3_test_score</th>\n",
       "      <th>split4_test_score</th>\n",
       "      <th>mean_test_score</th>\n",
       "      <th>std_test_score</th>\n",
       "      <th>rank_test_score</th>\n",
       "    </tr>\n",
       "  </thead>\n",
       "  <tbody>\n",
       "    <tr>\n",
       "      <th>0</th>\n",
       "      <td>0.035023</td>\n",
       "      <td>0.011089</td>\n",
       "      <td>0.003200</td>\n",
       "      <td>0.000977</td>\n",
       "      <td>1</td>\n",
       "      <td>{'n_features_to_select': 1}</td>\n",
       "      <td>0.391404</td>\n",
       "      <td>0.438626</td>\n",
       "      <td>0.447131</td>\n",
       "      <td>0.463111</td>\n",
       "      <td>0.404658</td>\n",
       "      <td>0.428986</td>\n",
       "      <td>0.026799</td>\n",
       "      <td>12</td>\n",
       "    </tr>\n",
       "    <tr>\n",
       "      <th>1</th>\n",
       "      <td>0.018704</td>\n",
       "      <td>0.001714</td>\n",
       "      <td>0.002403</td>\n",
       "      <td>0.000495</td>\n",
       "      <td>2</td>\n",
       "      <td>{'n_features_to_select': 2}</td>\n",
       "      <td>0.917966</td>\n",
       "      <td>0.918479</td>\n",
       "      <td>0.920180</td>\n",
       "      <td>0.917696</td>\n",
       "      <td>0.921229</td>\n",
       "      <td>0.919110</td>\n",
       "      <td>0.001367</td>\n",
       "      <td>11</td>\n",
       "    </tr>\n",
       "    <tr>\n",
       "      <th>2</th>\n",
       "      <td>0.017509</td>\n",
       "      <td>0.001676</td>\n",
       "      <td>0.002000</td>\n",
       "      <td>0.000632</td>\n",
       "      <td>3</td>\n",
       "      <td>{'n_features_to_select': 3}</td>\n",
       "      <td>0.918156</td>\n",
       "      <td>0.918750</td>\n",
       "      <td>0.920690</td>\n",
       "      <td>0.918022</td>\n",
       "      <td>0.921659</td>\n",
       "      <td>0.919455</td>\n",
       "      <td>0.001458</td>\n",
       "      <td>10</td>\n",
       "    </tr>\n",
       "    <tr>\n",
       "      <th>3</th>\n",
       "      <td>0.017308</td>\n",
       "      <td>0.001658</td>\n",
       "      <td>0.002201</td>\n",
       "      <td>0.000400</td>\n",
       "      <td>4</td>\n",
       "      <td>{'n_features_to_select': 4}</td>\n",
       "      <td>0.918310</td>\n",
       "      <td>0.919157</td>\n",
       "      <td>0.921482</td>\n",
       "      <td>0.917576</td>\n",
       "      <td>0.922241</td>\n",
       "      <td>0.919753</td>\n",
       "      <td>0.001809</td>\n",
       "      <td>9</td>\n",
       "    </tr>\n",
       "    <tr>\n",
       "      <th>4</th>\n",
       "      <td>0.016405</td>\n",
       "      <td>0.001628</td>\n",
       "      <td>0.002597</td>\n",
       "      <td>0.000800</td>\n",
       "      <td>5</td>\n",
       "      <td>{'n_features_to_select': 5}</td>\n",
       "      <td>0.918998</td>\n",
       "      <td>0.921580</td>\n",
       "      <td>0.922823</td>\n",
       "      <td>0.925589</td>\n",
       "      <td>0.928851</td>\n",
       "      <td>0.923568</td>\n",
       "      <td>0.003388</td>\n",
       "      <td>8</td>\n",
       "    </tr>\n",
       "  </tbody>\n",
       "</table>\n",
       "</div>"
      ],
      "text/plain": [
       "   mean_fit_time  std_fit_time  mean_score_time  std_score_time  \\\n",
       "0       0.035023      0.011089         0.003200        0.000977   \n",
       "1       0.018704      0.001714         0.002403        0.000495   \n",
       "2       0.017509      0.001676         0.002000        0.000632   \n",
       "3       0.017308      0.001658         0.002201        0.000400   \n",
       "4       0.016405      0.001628         0.002597        0.000800   \n",
       "\n",
       "  param_n_features_to_select                       params  split0_test_score  \\\n",
       "0                          1  {'n_features_to_select': 1}           0.391404   \n",
       "1                          2  {'n_features_to_select': 2}           0.917966   \n",
       "2                          3  {'n_features_to_select': 3}           0.918156   \n",
       "3                          4  {'n_features_to_select': 4}           0.918310   \n",
       "4                          5  {'n_features_to_select': 5}           0.918998   \n",
       "\n",
       "   split1_test_score  split2_test_score  split3_test_score  split4_test_score  \\\n",
       "0           0.438626           0.447131           0.463111           0.404658   \n",
       "1           0.918479           0.920180           0.917696           0.921229   \n",
       "2           0.918750           0.920690           0.918022           0.921659   \n",
       "3           0.919157           0.921482           0.917576           0.922241   \n",
       "4           0.921580           0.922823           0.925589           0.928851   \n",
       "\n",
       "   mean_test_score  std_test_score  rank_test_score  \n",
       "0         0.428986        0.026799               12  \n",
       "1         0.919110        0.001367               11  \n",
       "2         0.919455        0.001458               10  \n",
       "3         0.919753        0.001809                9  \n",
       "4         0.923568        0.003388                8  "
      ]
     },
     "execution_count": 41,
     "metadata": {},
     "output_type": "execute_result"
    }
   ],
   "source": [
    "reg_5cv_df = pd.DataFrame(reg_opt.cv_results_)\n",
    "reg_5cv_df.head()"
   ]
  },
  {
   "cell_type": "markdown",
   "id": "67699a8c",
   "metadata": {},
   "source": [
    "## Plotting  Cross Validation results\n",
    "\n",
    "Looking at the performance."
   ]
  },
  {
   "cell_type": "code",
   "execution_count": 42,
   "id": "f244808d",
   "metadata": {},
   "outputs": [
    {
     "data": {
      "text/plain": [
       "<seaborn.axisgrid.FacetGrid at 0x268041c6fd0>"
      ]
     },
     "execution_count": 42,
     "metadata": {},
     "output_type": "execute_result"
    },
    {
     "data": {
      "image/png": "[encoded data removed]",
      "text/plain": [
       "<Figure size 360x360 with 1 Axes>"
      ]
     },
     "metadata": {
      "needs_background": "light"
     },
     "output_type": "display_data"
    }
   ],
   "source": [
    "sns.catplot(data=reg_5cv_df, x='param_n_features_to_select',y='mean_test_score', kind='bar',)"
   ]
  },
  {
   "cell_type": "markdown",
   "id": "8a101781",
   "metadata": {},
   "source": [
    "In terms of performance, when the number of features selected is one, it sticks out, The mean test score is much smaller than when 2,3,4,5,6,7,8,9,10,11 or 12 features are selected.\n",
    "\n",
    "The more data it has to learn from, the better the test score."
   ]
  },
  {
   "cell_type": "code",
   "execution_count": 43,
   "id": "2671b9fa",
   "metadata": {},
   "outputs": [
    {
     "data": {
      "text/plain": [
       "<matplotlib.legend.Legend at 0x26807628460>"
      ]
     },
     "execution_count": 43,
     "metadata": {},
     "output_type": "execute_result"
    },
    {
     "data": {
      "image/png": "[encoded data removed]",
      "text/plain": [
       "<Figure size 432x288 with 1 Axes>"
      ]
     },
     "metadata": {
      "needs_background": "light"
     },
     "output_type": "display_data"
    }
   ],
   "source": [
    "plt.plot(reg_5cv_df[\"param_n_features_to_select\"], reg_5cv_df[\"mean_test_score\"])\n",
    "plt.xlabel('number of features')\n",
    "plt.ylabel('r-squared')\n",
    "plt.title(\"Optimal Number of Features\")\n",
    "plt.legend(['test score', 'train score'], loc='upper left')"
   ]
  },
  {
   "cell_type": "markdown",
   "id": "8fd3c39a",
   "metadata": {},
   "source": [
    "The R^2 increases as you increase the number of features but it increases significantly when more than one feature is used."
   ]
  },
  {
   "cell_type": "markdown",
   "id": "44d60f0f",
   "metadata": {},
   "source": [
    "## Best performing model parameters"
   ]
  },
  {
   "cell_type": "code",
   "execution_count": 45,
   "id": "d69cf37c",
   "metadata": {},
   "outputs": [
    {
     "data": {
      "text/plain": [
       "{'n_features_to_select': 10}"
      ]
     },
     "execution_count": 45,
     "metadata": {},
     "output_type": "execute_result"
    }
   ],
   "source": [
    "reg_opt.best_params_"
   ]
  },
  {
   "cell_type": "code",
   "execution_count": 46,
   "id": "bad5e536",
   "metadata": {},
   "outputs": [],
   "source": [
    "n_features_optimal = 10"
   ]
  },
  {
   "cell_type": "code",
   "execution_count": 47,
   "id": "dacea602",
   "metadata": {},
   "outputs": [],
   "source": [
    "rfe = RFE(regr_db, n_features_to_select=n_features_optimal)  \n",
    "reg_opt10 = rfe.fit(X_train, y_train)"
   ]
  },
  {
   "cell_type": "code",
   "execution_count": 48,
   "id": "4c2def32",
   "metadata": {},
   "outputs": [],
   "source": [
    "y_pred = regr_db.predict(X_test)"
   ]
  },
  {
   "cell_type": "code",
   "execution_count": 49,
   "id": "3a569e11",
   "metadata": {},
   "outputs": [
    {
     "data": {
      "text/plain": [
       "0.9301609709121904"
      ]
     },
     "execution_count": 49,
     "metadata": {},
     "output_type": "execute_result"
    }
   ],
   "source": [
    "reg_opt10.score(X_test,y_test)"
   ]
  },
  {
   "cell_type": "markdown",
   "id": "2985e025",
   "metadata": {},
   "source": [
    "The score is still ~93%. Using the best performing model parameters gives us the same results as default."
   ]
  },
  {
   "cell_type": "code",
   "execution_count": 50,
   "id": "f604b2b6",
   "metadata": {},
   "outputs": [
    {
     "data": {
      "text/plain": [
       "array([0.74819448, 0.6866052 , 0.84356926, 0.68843958, 0.65094882])"
      ]
     },
     "execution_count": 50,
     "metadata": {},
     "output_type": "execute_result"
    }
   ],
   "source": [
    "cross_val_score(rfe,air_X,air_y)"
   ]
  },
  {
   "cell_type": "code",
   "execution_count": 51,
   "id": "a7da99a3",
   "metadata": {},
   "outputs": [
    {
     "data": {
      "text/plain": [
       "0.7235514697054415"
      ]
     },
     "execution_count": 51,
     "metadata": {},
     "output_type": "execute_result"
    }
   ],
   "source": [
    "np.mean(cross_val_score(rfe,air_X,air_y))"
   ]
  },
  {
   "cell_type": "markdown",
   "id": "5c5f9f01",
   "metadata": {},
   "source": [
    "The accuracy of model with cross validation is a little better are 72.36%. The model works pretty fits pretty good on the held out data."
   ]
  },
  {
   "cell_type": "markdown",
   "id": "6257f41f",
   "metadata": {},
   "source": [
    "### Scoring the best fit model on a held out test set.\n",
    "\n",
    "I'm going to hold out 50% of the data."
   ]
  },
  {
   "cell_type": "code",
   "execution_count": 52,
   "id": "a182c96e",
   "metadata": {},
   "outputs": [],
   "source": [
    "X_train,X_test, y_train,y_test = train_test_split(feature_vars, target_var,random_state=0, train_size=0.5)"
   ]
  },
  {
   "cell_type": "code",
   "execution_count": 53,
   "id": "a5885bdf",
   "metadata": {},
   "outputs": [],
   "source": [
    "rfe = RFE(regr_db, n_features_to_select=n_features_optimal)  \n",
    "reg_opt8 = rfe.fit(X_train, y_train)\n",
    "y_pred = regr_db.predict(X_test)"
   ]
  },
  {
   "cell_type": "code",
   "execution_count": 54,
   "id": "01858277",
   "metadata": {},
   "outputs": [
    {
     "data": {
      "text/plain": [
       "0.9298573440696615"
      ]
     },
     "execution_count": 54,
     "metadata": {},
     "output_type": "execute_result"
    }
   ],
   "source": [
    "reg_opt8.score(X_test,y_test)"
   ]
  },
  {
   "cell_type": "markdown",
   "id": "aeec408f",
   "metadata": {},
   "source": [
    "The score is still ~93% holding out 50% of the data for the test set."
   ]
  },
  {
   "cell_type": "markdown",
   "id": "68f42f5c",
   "metadata": {},
   "source": [
    "## Interpretting the cross validation results\n",
    "\n",
    "The results of each cross validation indicate that the default and best fit models perform well. The accuracy for each is ~93% indicating that the model performs well.\n",
    "\n",
    "The cross validation score is a little better when using best fit model yet still very close to that of the default."
   ]
  },
  {
   "cell_type": "markdown",
   "id": "4f35e033",
   "metadata": {},
   "source": [
    "## Varying the cross validation parameters\n",
    "\n",
    "I'm going to do this by varying the number of folds. The default is 5, I'm going to try 10 and 15."
   ]
  },
  {
   "cell_type": "code",
   "execution_count": 55,
   "id": "7f6da3c1",
   "metadata": {},
   "outputs": [],
   "source": [
    "from sklearn.model_selection import KFold, ShuffleSplit"
   ]
  },
  {
   "cell_type": "code",
   "execution_count": 56,
   "id": "732c2fee",
   "metadata": {},
   "outputs": [],
   "source": [
    "kf = KFold(n_splits = 10)"
   ]
  },
  {
   "cell_type": "code",
   "execution_count": 57,
   "id": "667aec68",
   "metadata": {},
   "outputs": [],
   "source": [
    "new_opt = GridSearchCV(estimator = rfe, \n",
    "                        param_grid = hyper_params,\n",
    "                        cv = kf)      "
   ]
  },
  {
   "cell_type": "code",
   "execution_count": 58,
   "id": "f3222ecc",
   "metadata": {},
   "outputs": [
    {
     "data": {
      "text/plain": [
       "GridSearchCV(cv=KFold(n_splits=10, random_state=None, shuffle=False),\n",
       "             estimator=RFE(estimator=LinearRegression(),\n",
       "                           n_features_to_select=10),\n",
       "             param_grid=[{'n_features_to_select': [1, 2, 3, 4, 5, 6, 7, 8, 9,\n",
       "                                                   10, 11, 12]}])"
      ]
     },
     "execution_count": 58,
     "metadata": {},
     "output_type": "execute_result"
    }
   ],
   "source": [
    "new_opt.fit(air_X, air_y)  "
   ]
  },
  {
   "cell_type": "code",
   "execution_count": 59,
   "id": "a5ec35fe",
   "metadata": {},
   "outputs": [
    {
     "data": {
      "text/html": [
       "<div>\n",
       "<style scoped>\n",
       "    .dataframe tbody tr th:only-of-type {\n",
       "        vertical-align: middle;\n",
       "    }\n",
       "\n",
       "    .dataframe tbody tr th {\n",
       "        vertical-align: top;\n",
       "    }\n",
       "\n",
       "    .dataframe thead th {\n",
       "        text-align: right;\n",
       "    }\n",
       "</style>\n",
       "<table border=\"1\" class=\"dataframe\">\n",
       "  <thead>\n",
       "    <tr style=\"text-align: right;\">\n",
       "      <th></th>\n",
       "      <th>mean_fit_time</th>\n",
       "      <th>std_fit_time</th>\n",
       "      <th>mean_score_time</th>\n",
       "      <th>std_score_time</th>\n",
       "      <th>param_n_features_to_select</th>\n",
       "      <th>params</th>\n",
       "      <th>split0_test_score</th>\n",
       "      <th>split1_test_score</th>\n",
       "      <th>split2_test_score</th>\n",
       "      <th>split3_test_score</th>\n",
       "      <th>split4_test_score</th>\n",
       "      <th>split5_test_score</th>\n",
       "      <th>split6_test_score</th>\n",
       "      <th>split7_test_score</th>\n",
       "      <th>split8_test_score</th>\n",
       "      <th>split9_test_score</th>\n",
       "      <th>mean_test_score</th>\n",
       "      <th>std_test_score</th>\n",
       "      <th>rank_test_score</th>\n",
       "    </tr>\n",
       "  </thead>\n",
       "  <tbody>\n",
       "    <tr>\n",
       "      <th>0</th>\n",
       "      <td>0.022758</td>\n",
       "      <td>0.004100</td>\n",
       "      <td>0.002301</td>\n",
       "      <td>0.000458</td>\n",
       "      <td>1</td>\n",
       "      <td>{'n_features_to_select': 1}</td>\n",
       "      <td>-0.205499</td>\n",
       "      <td>-0.778025</td>\n",
       "      <td>-0.875772</td>\n",
       "      <td>-1.978262</td>\n",
       "      <td>-0.987910</td>\n",
       "      <td>-1.201317</td>\n",
       "      <td>-0.543006</td>\n",
       "      <td>-0.377017</td>\n",
       "      <td>-0.637041</td>\n",
       "      <td>0.229515</td>\n",
       "      <td>-0.735433</td>\n",
       "      <td>0.568687</td>\n",
       "      <td>12</td>\n",
       "    </tr>\n",
       "    <tr>\n",
       "      <th>1</th>\n",
       "      <td>0.018804</td>\n",
       "      <td>0.000714</td>\n",
       "      <td>0.002254</td>\n",
       "      <td>0.000407</td>\n",
       "      <td>2</td>\n",
       "      <td>{'n_features_to_select': 2}</td>\n",
       "      <td>0.913638</td>\n",
       "      <td>0.862657</td>\n",
       "      <td>0.826783</td>\n",
       "      <td>0.503889</td>\n",
       "      <td>0.751812</td>\n",
       "      <td>0.834269</td>\n",
       "      <td>0.745703</td>\n",
       "      <td>0.726465</td>\n",
       "      <td>0.311278</td>\n",
       "      <td>0.799229</td>\n",
       "      <td>0.727572</td>\n",
       "      <td>0.174207</td>\n",
       "      <td>8</td>\n",
       "    </tr>\n",
       "    <tr>\n",
       "      <th>2</th>\n",
       "      <td>0.018268</td>\n",
       "      <td>0.001137</td>\n",
       "      <td>0.001999</td>\n",
       "      <td>0.000443</td>\n",
       "      <td>3</td>\n",
       "      <td>{'n_features_to_select': 3}</td>\n",
       "      <td>0.910685</td>\n",
       "      <td>0.862617</td>\n",
       "      <td>0.825658</td>\n",
       "      <td>0.507740</td>\n",
       "      <td>0.753864</td>\n",
       "      <td>0.814844</td>\n",
       "      <td>0.750838</td>\n",
       "      <td>0.724400</td>\n",
       "      <td>0.317838</td>\n",
       "      <td>0.800368</td>\n",
       "      <td>0.726885</td>\n",
       "      <td>0.170807</td>\n",
       "      <td>9</td>\n",
       "    </tr>\n",
       "    <tr>\n",
       "      <th>3</th>\n",
       "      <td>0.020116</td>\n",
       "      <td>0.002115</td>\n",
       "      <td>0.002196</td>\n",
       "      <td>0.000399</td>\n",
       "      <td>4</td>\n",
       "      <td>{'n_features_to_select': 4}</td>\n",
       "      <td>0.847802</td>\n",
       "      <td>0.866539</td>\n",
       "      <td>0.827297</td>\n",
       "      <td>0.512734</td>\n",
       "      <td>0.754690</td>\n",
       "      <td>0.765501</td>\n",
       "      <td>0.747940</td>\n",
       "      <td>0.730623</td>\n",
       "      <td>0.322808</td>\n",
       "      <td>0.801790</td>\n",
       "      <td>0.717773</td>\n",
       "      <td>0.161508</td>\n",
       "      <td>11</td>\n",
       "    </tr>\n",
       "    <tr>\n",
       "      <th>4</th>\n",
       "      <td>0.021913</td>\n",
       "      <td>0.007405</td>\n",
       "      <td>0.002600</td>\n",
       "      <td>0.000915</td>\n",
       "      <td>5</td>\n",
       "      <td>{'n_features_to_select': 5}</td>\n",
       "      <td>0.847916</td>\n",
       "      <td>0.887146</td>\n",
       "      <td>0.834593</td>\n",
       "      <td>0.536930</td>\n",
       "      <td>0.753886</td>\n",
       "      <td>0.786694</td>\n",
       "      <td>0.707967</td>\n",
       "      <td>0.735860</td>\n",
       "      <td>0.350500</td>\n",
       "      <td>0.810526</td>\n",
       "      <td>0.725202</td>\n",
       "      <td>0.155369</td>\n",
       "      <td>10</td>\n",
       "    </tr>\n",
       "    <tr>\n",
       "      <th>5</th>\n",
       "      <td>0.016892</td>\n",
       "      <td>0.001881</td>\n",
       "      <td>0.002196</td>\n",
       "      <td>0.000599</td>\n",
       "      <td>6</td>\n",
       "      <td>{'n_features_to_select': 6}</td>\n",
       "      <td>0.849784</td>\n",
       "      <td>0.889942</td>\n",
       "      <td>0.836819</td>\n",
       "      <td>0.541958</td>\n",
       "      <td>0.748424</td>\n",
       "      <td>0.875445</td>\n",
       "      <td>0.712499</td>\n",
       "      <td>0.765030</td>\n",
       "      <td>0.486487</td>\n",
       "      <td>0.839191</td>\n",
       "      <td>0.754558</td>\n",
       "      <td>0.132256</td>\n",
       "      <td>5</td>\n",
       "    </tr>\n",
       "    <tr>\n",
       "      <th>6</th>\n",
       "      <td>0.015259</td>\n",
       "      <td>0.001217</td>\n",
       "      <td>0.002349</td>\n",
       "      <td>0.000449</td>\n",
       "      <td>7</td>\n",
       "      <td>{'n_features_to_select': 7}</td>\n",
       "      <td>0.847367</td>\n",
       "      <td>0.896469</td>\n",
       "      <td>0.836835</td>\n",
       "      <td>0.541382</td>\n",
       "      <td>0.757961</td>\n",
       "      <td>0.875505</td>\n",
       "      <td>0.747955</td>\n",
       "      <td>0.763542</td>\n",
       "      <td>0.482032</td>\n",
       "      <td>0.825864</td>\n",
       "      <td>0.757491</td>\n",
       "      <td>0.132287</td>\n",
       "      <td>3</td>\n",
       "    </tr>\n",
       "    <tr>\n",
       "      <th>7</th>\n",
       "      <td>0.012256</td>\n",
       "      <td>0.000876</td>\n",
       "      <td>0.002197</td>\n",
       "      <td>0.000398</td>\n",
       "      <td>8</td>\n",
       "      <td>{'n_features_to_select': 8}</td>\n",
       "      <td>0.848131</td>\n",
       "      <td>0.897887</td>\n",
       "      <td>0.837256</td>\n",
       "      <td>0.537335</td>\n",
       "      <td>0.762211</td>\n",
       "      <td>0.876776</td>\n",
       "      <td>0.757500</td>\n",
       "      <td>0.757457</td>\n",
       "      <td>0.494519</td>\n",
       "      <td>0.826169</td>\n",
       "      <td>0.759524</td>\n",
       "      <td>0.130705</td>\n",
       "      <td>2</td>\n",
       "    </tr>\n",
       "    <tr>\n",
       "      <th>8</th>\n",
       "      <td>0.010352</td>\n",
       "      <td>0.000450</td>\n",
       "      <td>0.002000</td>\n",
       "      <td>0.000001</td>\n",
       "      <td>9</td>\n",
       "      <td>{'n_features_to_select': 9}</td>\n",
       "      <td>0.857424</td>\n",
       "      <td>0.898097</td>\n",
       "      <td>0.848809</td>\n",
       "      <td>0.554101</td>\n",
       "      <td>0.762118</td>\n",
       "      <td>0.877842</td>\n",
       "      <td>0.753732</td>\n",
       "      <td>0.746730</td>\n",
       "      <td>0.513061</td>\n",
       "      <td>0.825959</td>\n",
       "      <td>0.763787</td>\n",
       "      <td>0.125752</td>\n",
       "      <td>1</td>\n",
       "    </tr>\n",
       "    <tr>\n",
       "      <th>9</th>\n",
       "      <td>0.008554</td>\n",
       "      <td>0.000963</td>\n",
       "      <td>0.001898</td>\n",
       "      <td>0.000300</td>\n",
       "      <td>10</td>\n",
       "      <td>{'n_features_to_select': 10}</td>\n",
       "      <td>0.813182</td>\n",
       "      <td>0.897131</td>\n",
       "      <td>0.848878</td>\n",
       "      <td>0.552189</td>\n",
       "      <td>0.761805</td>\n",
       "      <td>0.864897</td>\n",
       "      <td>0.753137</td>\n",
       "      <td>0.734152</td>\n",
       "      <td>0.513842</td>\n",
       "      <td>0.815161</td>\n",
       "      <td>0.755437</td>\n",
       "      <td>0.121601</td>\n",
       "      <td>4</td>\n",
       "    </tr>\n",
       "    <tr>\n",
       "      <th>10</th>\n",
       "      <td>0.007307</td>\n",
       "      <td>0.001007</td>\n",
       "      <td>0.001996</td>\n",
       "      <td>0.000005</td>\n",
       "      <td>11</td>\n",
       "      <td>{'n_features_to_select': 11}</td>\n",
       "      <td>0.791710</td>\n",
       "      <td>0.896239</td>\n",
       "      <td>0.847346</td>\n",
       "      <td>0.552034</td>\n",
       "      <td>0.762185</td>\n",
       "      <td>0.860673</td>\n",
       "      <td>0.746841</td>\n",
       "      <td>0.730241</td>\n",
       "      <td>0.513606</td>\n",
       "      <td>0.812543</td>\n",
       "      <td>0.751342</td>\n",
       "      <td>0.120152</td>\n",
       "      <td>6</td>\n",
       "    </tr>\n",
       "    <tr>\n",
       "      <th>11</th>\n",
       "      <td>0.004403</td>\n",
       "      <td>0.000492</td>\n",
       "      <td>0.001902</td>\n",
       "      <td>0.000299</td>\n",
       "      <td>12</td>\n",
       "      <td>{'n_features_to_select': 12}</td>\n",
       "      <td>0.791712</td>\n",
       "      <td>0.896254</td>\n",
       "      <td>0.847684</td>\n",
       "      <td>0.552080</td>\n",
       "      <td>0.762221</td>\n",
       "      <td>0.859178</td>\n",
       "      <td>0.746823</td>\n",
       "      <td>0.730801</td>\n",
       "      <td>0.513024</td>\n",
       "      <td>0.812767</td>\n",
       "      <td>0.751254</td>\n",
       "      <td>0.120156</td>\n",
       "      <td>7</td>\n",
       "    </tr>\n",
       "  </tbody>\n",
       "</table>\n",
       "</div>"
      ],
      "text/plain": [
       "    mean_fit_time  std_fit_time  mean_score_time  std_score_time  \\\n",
       "0        0.022758      0.004100         0.002301        0.000458   \n",
       "1        0.018804      0.000714         0.002254        0.000407   \n",
       "2        0.018268      0.001137         0.001999        0.000443   \n",
       "3        0.020116      0.002115         0.002196        0.000399   \n",
       "4        0.021913      0.007405         0.002600        0.000915   \n",
       "5        0.016892      0.001881         0.002196        0.000599   \n",
       "6        0.015259      0.001217         0.002349        0.000449   \n",
       "7        0.012256      0.000876         0.002197        0.000398   \n",
       "8        0.010352      0.000450         0.002000        0.000001   \n",
       "9        0.008554      0.000963         0.001898        0.000300   \n",
       "10       0.007307      0.001007         0.001996        0.000005   \n",
       "11       0.004403      0.000492         0.001902        0.000299   \n",
       "\n",
       "   param_n_features_to_select                        params  \\\n",
       "0                           1   {'n_features_to_select': 1}   \n",
       "1                           2   {'n_features_to_select': 2}   \n",
       "2                           3   {'n_features_to_select': 3}   \n",
       "3                           4   {'n_features_to_select': 4}   \n",
       "4                           5   {'n_features_to_select': 5}   \n",
       "5                           6   {'n_features_to_select': 6}   \n",
       "6                           7   {'n_features_to_select': 7}   \n",
       "7                           8   {'n_features_to_select': 8}   \n",
       "8                           9   {'n_features_to_select': 9}   \n",
       "9                          10  {'n_features_to_select': 10}   \n",
       "10                         11  {'n_features_to_select': 11}   \n",
       "11                         12  {'n_features_to_select': 12}   \n",
       "\n",
       "    split0_test_score  split1_test_score  split2_test_score  \\\n",
       "0           -0.205499          -0.778025          -0.875772   \n",
       "1            0.913638           0.862657           0.826783   \n",
       "2            0.910685           0.862617           0.825658   \n",
       "3            0.847802           0.866539           0.827297   \n",
       "4            0.847916           0.887146           0.834593   \n",
       "5            0.849784           0.889942           0.836819   \n",
       "6            0.847367           0.896469           0.836835   \n",
       "7            0.848131           0.897887           0.837256   \n",
       "8            0.857424           0.898097           0.848809   \n",
       "9            0.813182           0.897131           0.848878   \n",
       "10           0.791710           0.896239           0.847346   \n",
       "11           0.791712           0.896254           0.847684   \n",
       "\n",
       "    split3_test_score  split4_test_score  split5_test_score  \\\n",
       "0           -1.978262          -0.987910          -1.201317   \n",
       "1            0.503889           0.751812           0.834269   \n",
       "2            0.507740           0.753864           0.814844   \n",
       "3            0.512734           0.754690           0.765501   \n",
       "4            0.536930           0.753886           0.786694   \n",
       "5            0.541958           0.748424           0.875445   \n",
       "6            0.541382           0.757961           0.875505   \n",
       "7            0.537335           0.762211           0.876776   \n",
       "8            0.554101           0.762118           0.877842   \n",
       "9            0.552189           0.761805           0.864897   \n",
       "10           0.552034           0.762185           0.860673   \n",
       "11           0.552080           0.762221           0.859178   \n",
       "\n",
       "    split6_test_score  split7_test_score  split8_test_score  \\\n",
       "0           -0.543006          -0.377017          -0.637041   \n",
       "1            0.745703           0.726465           0.311278   \n",
       "2            0.750838           0.724400           0.317838   \n",
       "3            0.747940           0.730623           0.322808   \n",
       "4            0.707967           0.735860           0.350500   \n",
       "5            0.712499           0.765030           0.486487   \n",
       "6            0.747955           0.763542           0.482032   \n",
       "7            0.757500           0.757457           0.494519   \n",
       "8            0.753732           0.746730           0.513061   \n",
       "9            0.753137           0.734152           0.513842   \n",
       "10           0.746841           0.730241           0.513606   \n",
       "11           0.746823           0.730801           0.513024   \n",
       "\n",
       "    split9_test_score  mean_test_score  std_test_score  rank_test_score  \n",
       "0            0.229515        -0.735433        0.568687               12  \n",
       "1            0.799229         0.727572        0.174207                8  \n",
       "2            0.800368         0.726885        0.170807                9  \n",
       "3            0.801790         0.717773        0.161508               11  \n",
       "4            0.810526         0.725202        0.155369               10  \n",
       "5            0.839191         0.754558        0.132256                5  \n",
       "6            0.825864         0.757491        0.132287                3  \n",
       "7            0.826169         0.759524        0.130705                2  \n",
       "8            0.825959         0.763787        0.125752                1  \n",
       "9            0.815161         0.755437        0.121601                4  \n",
       "10           0.812543         0.751342        0.120152                6  \n",
       "11           0.812767         0.751254        0.120156                7  "
      ]
     },
     "execution_count": 59,
     "metadata": {},
     "output_type": "execute_result"
    }
   ],
   "source": [
    "new_results = pd.DataFrame(new_opt.cv_results_)\n",
    "new_results"
   ]
  },
  {
   "cell_type": "code",
   "execution_count": 60,
   "id": "bb391b59",
   "metadata": {},
   "outputs": [
    {
     "data": {
      "text/plain": [
       "array([0.79171219, 0.8962544 , 0.84768419, 0.55208014, 0.76222114,\n",
       "       0.85917805, 0.74682295, 0.73080126, 0.51302359, 0.81276681])"
      ]
     },
     "execution_count": 60,
     "metadata": {},
     "output_type": "execute_result"
    }
   ],
   "source": [
    "cross_val_score(regr_db,air_X,air_y,cv=10)"
   ]
  },
  {
   "cell_type": "code",
   "execution_count": 61,
   "id": "d46c9050",
   "metadata": {},
   "outputs": [
    {
     "data": {
      "text/plain": [
       "0.7512544706573401"
      ]
     },
     "execution_count": 61,
     "metadata": {},
     "output_type": "execute_result"
    }
   ],
   "source": [
    "np.mean(cross_val_score(regr_db,air_X,air_y,cv=10))"
   ]
  },
  {
   "cell_type": "code",
   "execution_count": 62,
   "id": "12b83ea3",
   "metadata": {},
   "outputs": [
    {
     "data": {
      "text/plain": [
       "array([0.83724219, 0.92811136, 0.87968944, 0.88145665, 0.61343503,\n",
       "       0.58410367, 0.77011478, 0.84109058, 0.84929207, 0.88263037,\n",
       "       0.59515709, 0.69155367, 0.60793537, 0.12874098, 0.77838828])"
      ]
     },
     "execution_count": 62,
     "metadata": {},
     "output_type": "execute_result"
    }
   ],
   "source": [
    "cross_val_score(regr_db,air_X,air_y,cv=15)"
   ]
  },
  {
   "cell_type": "code",
   "execution_count": 63,
   "id": "e6e22437",
   "metadata": {},
   "outputs": [
    {
     "data": {
      "text/plain": [
       "0.724596102505353"
      ]
     },
     "execution_count": 63,
     "metadata": {},
     "output_type": "execute_result"
    }
   ],
   "source": [
    "np.mean(cross_val_score(regr_db,air_X,air_y,cv=15))"
   ]
  },
  {
   "cell_type": "markdown",
   "id": "9624d768",
   "metadata": {},
   "source": [
    "The original model's accuracy was 71.72% at 5 folds. At 10 folds, the accuracy of the model is 75.12% and 72.46% at 15 folds. "
   ]
  },
  {
   "cell_type": "code",
   "execution_count": 64,
   "id": "6aac066a",
   "metadata": {},
   "outputs": [
    {
     "data": {
      "text/plain": [
       "0.7393767601557284"
      ]
     },
     "execution_count": 64,
     "metadata": {},
     "output_type": "execute_result"
    }
   ],
   "source": [
    "np.mean(cross_val_score(regr_db,air_X,air_y,cv=20))"
   ]
  },
  {
   "cell_type": "code",
   "execution_count": 65,
   "id": "c1f62145",
   "metadata": {},
   "outputs": [
    {
     "data": {
      "text/plain": [
       "0.7050924193450416"
      ]
     },
     "execution_count": 65,
     "metadata": {},
     "output_type": "execute_result"
    }
   ],
   "source": [
    "np.mean(cross_val_score(regr_db,air_X,air_y,cv=25))"
   ]
  },
  {
   "cell_type": "code",
   "execution_count": 66,
   "id": "8d97cf26",
   "metadata": {},
   "outputs": [
    {
     "data": {
      "text/plain": [
       "0.7600860019442287"
      ]
     },
     "execution_count": 66,
     "metadata": {},
     "output_type": "execute_result"
    }
   ],
   "source": [
    "np.mean(cross_val_score(regr_db,air_X,air_y,cv=7))"
   ]
  },
  {
   "cell_type": "markdown",
   "id": "e35cb944",
   "metadata": {},
   "source": [
    "At 20 folds, the accuracy of the model is 73.93% and 70.51% at 25 folds.\n",
    "\n",
    "It seems like the model's performance changes as you increase the number of folds. It increases between 5 and 10 folds, decreases between 10 and 15, increases between 15 and 20 and decreases between 20 and 25 folds. \n",
    "\n",
    "A plot would like peaks and troughs.\n",
    "\n",
    "My initial though was that the model would perform better as you increase the number of folds but my conclusion has changed."
   ]
  },
  {
   "cell_type": "code",
   "execution_count": null,
   "id": "97813c1f",
   "metadata": {},
   "outputs": [],
   "source": []
  }
 ],
 "metadata": {
  "kernelspec": {
   "display_name": "Python 3 (ipykernel)",
   "language": "python",
   "name": "python3"
  },
  "language_info": {
   "codemirror_mode": {
    "name": "ipython",
    "version": 3
   },
   "file_extension": ".py",
   "mimetype": "text/x-python",
   "name": "python",
   "nbconvert_exporter": "python",
   "pygments_lexer": "ipython3",
   "version": "3.9.7"
  }
 },
 "nbformat": 4,
 "nbformat_minor": 5
}
